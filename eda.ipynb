{
 "cells": [
  {
   "cell_type": "code",
   "execution_count": 1,
   "metadata": {
    "collapsed": true
   },
   "outputs": [],
   "source": [
    "import pandas as pd\n",
    "import matplotlib.pyplot as plt"
   ]
  },
  {
   "cell_type": "code",
   "execution_count": 9,
   "metadata": {
    "collapsed": false
   },
   "outputs": [
    {
     "data": {
      "text/plain": [
       "(184, 29)"
      ]
     },
     "execution_count": 9,
     "metadata": {},
     "output_type": "execute_result"
    }
   ],
   "source": [
    "df_frac = pd.read_excel('../other/GRANA_FRAC_DATA.xlsx')\n",
    "cols = df_frac.columns.tolist()\n",
    "cols = [col.replace(' ', '_') for col in cols]\n",
    "df_frac.columns = cols\n",
    "df_frac.shape"
   ]
  },
  {
   "cell_type": "code",
   "execution_count": 14,
   "metadata": {
    "collapsed": false
   },
   "outputs": [
    {
     "data": {
      "text/plain": [
       "Index([u'PropID', u'RSID', u'End_Date', u'Reservoir', u'Completed_Feet',\n",
       "       u'#_of_Stages', u'Stage_Length', u'Clusters/Stage', u'Cluster_Spacing',\n",
       "       u'Perfs/Cluster', u'Fluid_Bbls', u'Fluid_Gal/Ft', u'Fluid_Gal/Cluster',\n",
       "       u'Fluid_Gal/Perf', u'Prop_Lbs', u'Prop_Lbs/Ft', u'Prop_Lbs/Cluster',\n",
       "       u'Prop_Lbs/Perf', u'Avg_Prop_Conc', u'Max_Prop_Conc', u'Avg_Rate',\n",
       "       u'Max_Rate', u'Rate/Ft', u'Rate/Cluster', u'Rate/Perf', u'Avg_Pressure',\n",
       "       u'Max_Pressure', u'ISIP/Ft', u'5\"_SIP/Ft'],\n",
       "      dtype='object')"
      ]
     },
     "execution_count": 14,
     "metadata": {},
     "output_type": "execute_result"
    }
   ],
   "source": [
    "df_frac.columns"
   ]
  },
  {
   "cell_type": "code",
   "execution_count": 11,
   "metadata": {
    "collapsed": false
   },
   "outputs": [
    {
     "data": {
      "text/plain": [
       "(275, 38)"
      ]
     },
     "execution_count": 11,
     "metadata": {},
     "output_type": "execute_result"
    }
   ],
   "source": [
    "df_prop = pd.read_excel('../other/AC_PROPERTY.xlsx')\n",
    "cols = df_prop.columns.tolist()\n",
    "cols = [col.replace(' ', '_') for col in cols]\n",
    "df_prop.columns = cols\n",
    "df_prop.shape"
   ]
  },
  {
   "cell_type": "code",
   "execution_count": 13,
   "metadata": {
    "collapsed": false
   },
   "outputs": [
    {
     "data": {
      "text/plain": [
       "Index([u'DBSKEY', u'PROPNUM', u'SEQNUM', u'RSID', u'RES_CLASS', u'XEC_RESCAT',\n",
       "       u'XEC_FIELD', u'EIAREG_FLD', u'RESERVOIR', u'OPERATOR', u'OP_NONOP',\n",
       "       u'COUNTY', u'STATE', u'M_LATITUDE', u'M_LONGITUDE', u'MAJOR',\n",
       "       u'QTR_BOOK', u'MTH_BOOK', u'PLANT', u'ENG', u'EXPL_REG', u'PROD_REG',\n",
       "       u'PROD_DIST', u'PROD_ENG', u'MHR_CMPNY', u'PROD_ID1', u'PROD_ID2',\n",
       "       u'PROD_ID3', u'PROD_CMT1', u'BTU', u'AREA_DIFF', u'GATHERING',\n",
       "       u'OIL_DIFF', u'OIL_GATH', u'NGL_DIFF', u'HP_CG_POT', u'FRCST_UPD',\n",
       "       u'VALUE_IND'],\n",
       "      dtype='object')"
      ]
     },
     "execution_count": 13,
     "metadata": {},
     "output_type": "execute_result"
    }
   ],
   "source": [
    "df_prop.columns"
   ]
  },
  {
   "cell_type": "code",
   "execution_count": 18,
   "metadata": {
    "collapsed": false
   },
   "outputs": [
    {
     "data": {
      "text/plain": [
       "(275, 9)"
      ]
     },
     "execution_count": 18,
     "metadata": {},
     "output_type": "execute_result"
    }
   ],
   "source": [
    "df_prop.drop([u'DBSKEY', u'SEQNUM', u'RES_CLASS', u'XEC_RESCAT',\n",
    "        u'EIAREG_FLD', u'RESERVOIR', u'OP_NONOP',\n",
    "       u'QTR_BOOK', u'MTH_BOOK', u'PLANT', u'ENG', u'EXPL_REG', u'PROD_REG',\n",
    "       u'PROD_DIST', u'PROD_ENG', u'MHR_CMPNY', u'PROD_ID1', u'PROD_ID2',\n",
    "       u'PROD_ID3', u'PROD_CMT1', u'BTU', u'AREA_DIFF', u'GATHERING',\n",
    "       u'OIL_DIFF', u'OIL_GATH', u'NGL_DIFF', u'HP_CG_POT', u'FRCST_UPD',\n",
    "       u'VALUE_IND'], inplace=True, axis=1)\n",
    "df_prop.shape"
   ]
  },
  {
   "cell_type": "code",
   "execution_count": 42,
   "metadata": {
    "collapsed": false
   },
   "outputs": [
    {
     "data": {
      "text/plain": [
       "(184, 37)"
      ]
     },
     "execution_count": 42,
     "metadata": {},
     "output_type": "execute_result"
    }
   ],
   "source": [
    "df_merge = pd.merge(left=df_frac, right=df_prop, how='left', on='RSID')\n",
    "df_merge.shape"
   ]
  },
  {
   "cell_type": "code",
   "execution_count": 38,
   "metadata": {
    "collapsed": false
   },
   "outputs": [
    {
     "data": {
      "text/plain": [
       "Index([u'PropID', u'RSID', u'End_Date', u'Reservoir', u'Completed_Feet',\n",
       "       u'#_of_Stages', u'Stage_Length', u'Clusters/Stage', u'Cluster_Spacing',\n",
       "       u'Perfs/Cluster', u'Fluid_Bbls', u'Fluid_Gal/Ft', u'Fluid_Gal/Cluster',\n",
       "       u'Fluid_Gal/Perf', u'Prop_Lbs', u'Prop_Lbs/Ft', u'Prop_Lbs/Cluster',\n",
       "       u'Prop_Lbs/Perf', u'Avg_Prop_Conc', u'Max_Prop_Conc', u'Avg_Rate',\n",
       "       u'Max_Rate', u'Rate/Ft', u'Rate/Cluster', u'Rate/Perf', u'Avg_Pressure',\n",
       "       u'Max_Pressure', u'ISIP/Ft', u'5\"_SIP/Ft', u'PROPNUM', u'XEC_FIELD',\n",
       "       u'OPERATOR', u'COUNTY', u'STATE', u'M_LATITUDE', u'M_LONGITUDE',\n",
       "       u'MAJOR'],\n",
       "      dtype='object')"
      ]
     },
     "execution_count": 38,
     "metadata": {},
     "output_type": "execute_result"
    }
   ],
   "source": [
    "df_merge.columns"
   ]
  },
  {
   "cell_type": "code",
   "execution_count": 26,
   "metadata": {
    "collapsed": false
   },
   "outputs": [
    {
     "data": {
      "text/plain": [
       "(275, 13)"
      ]
     },
     "execution_count": 26,
     "metadata": {},
     "output_type": "execute_result"
    }
   ],
   "source": [
    "df_eur = pd.read_excel('../other/MD_Check_DB_Gross_Values.xlsx')\n",
    "cols = df_eur.columns.tolist()\n",
    "cols = [col.replace(' ', '_') for col in cols]\n",
    "df_eur.columns = cols\n",
    "df_eur.shape"
   ]
  },
  {
   "cell_type": "code",
   "execution_count": 27,
   "metadata": {
    "collapsed": false
   },
   "outputs": [
    {
     "data": {
      "text/plain": [
       "Index([u'PROPNUM', u'EMS_YRBOOK', u'RESERVOIR', u'OPERATOR', u'COUNTY',\n",
       "       u'STATE', u'SPUD_DATE', u'FIRST_PROD', u'Wet_Gas', u'Dry_Gas', u'Oil',\n",
       "       u'NGL', u'OP_NONOP'],\n",
       "      dtype='object')"
      ]
     },
     "execution_count": 27,
     "metadata": {},
     "output_type": "execute_result"
    }
   ],
   "source": [
    "df_eur.columns"
   ]
  },
  {
   "cell_type": "code",
   "execution_count": 28,
   "metadata": {
    "collapsed": false
   },
   "outputs": [
    {
     "data": {
      "text/plain": [
       "(275, 7)"
      ]
     },
     "execution_count": 28,
     "metadata": {},
     "output_type": "execute_result"
    }
   ],
   "source": [
    "df_eur.drop([u'EMS_YRBOOK', u'RESERVOIR', u'OPERATOR', u'COUNTY',\n",
    "       u'STATE', u'OP_NONOP'], inplace=True, axis=1)\n",
    "df_eur.shape"
   ]
  },
  {
   "cell_type": "code",
   "execution_count": 29,
   "metadata": {
    "collapsed": false
   },
   "outputs": [
    {
     "data": {
      "text/plain": [
       "Index([u'PROPNUM', u'SPUD_DATE', u'FIRST_PROD', u'Wet_Gas', u'Dry_Gas', u'Oil',\n",
       "       u'NGL'],\n",
       "      dtype='object')"
      ]
     },
     "execution_count": 29,
     "metadata": {},
     "output_type": "execute_result"
    }
   ],
   "source": [
    "df_eur.columns"
   ]
  },
  {
   "cell_type": "code",
   "execution_count": 43,
   "metadata": {
    "collapsed": false
   },
   "outputs": [
    {
     "data": {
      "text/plain": [
       "(184, 43)"
      ]
     },
     "execution_count": 43,
     "metadata": {},
     "output_type": "execute_result"
    }
   ],
   "source": [
    "df_merge2 = pd.merge(df_merge, df_eur, how='left', on='PROPNUM')\n",
    "df_merge2.shape"
   ]
  },
  {
   "cell_type": "code",
   "execution_count": 45,
   "metadata": {
    "collapsed": false
   },
   "outputs": [
    {
     "data": {
      "text/plain": [
       "Index([u'PropID', u'RSID', u'End_Date', u'Reservoir', u'Completed_Feet',\n",
       "       u'#_of_Stages', u'Stage_Length', u'Clusters/Stage', u'Cluster_Spacing',\n",
       "       u'Perfs/Cluster', u'Fluid_Bbls', u'Fluid_Gal/Ft', u'Fluid_Gal/Cluster',\n",
       "       u'Fluid_Gal/Perf', u'Prop_Lbs', u'Prop_Lbs/Ft', u'Prop_Lbs/Cluster',\n",
       "       u'Prop_Lbs/Perf', u'Avg_Prop_Conc', u'Max_Prop_Conc', u'Avg_Rate',\n",
       "       u'Max_Rate', u'Rate/Ft', u'Rate/Cluster', u'Rate/Perf', u'Avg_Pressure',\n",
       "       u'Max_Pressure', u'ISIP/Ft', u'5\"_SIP/Ft', u'PROPNUM', u'XEC_FIELD',\n",
       "       u'OPERATOR', u'COUNTY', u'STATE', u'M_LATITUDE', u'M_LONGITUDE',\n",
       "       u'MAJOR', u'SPUD_DATE', u'FIRST_PROD', u'Wet_Gas', u'Dry_Gas', u'Oil',\n",
       "       u'NGL'],\n",
       "      dtype='object')"
      ]
     },
     "execution_count": 45,
     "metadata": {},
     "output_type": "execute_result"
    }
   ],
   "source": [
    "df_merge2.columns"
   ]
  },
  {
   "cell_type": "code",
   "execution_count": 46,
   "metadata": {
    "collapsed": false
   },
   "outputs": [
    {
     "data": {
      "text/plain": [
       "Index([           u'PropID',              u'RSID',          u'End_Date',\n",
       "               u'Reservoir',    u'Completed_Feet',       u'#_of_Stages',\n",
       "            u'Stage_Length',    u'Clusters/Stage',   u'Cluster_Spacing',\n",
       "           u'Perfs/Cluster',        u'Fluid_Bbls',      u'Fluid_Gal/Ft',\n",
       "       u'Fluid_Gal/Cluster',    u'Fluid_Gal/Perf',          u'Prop_Lbs',\n",
       "             u'Prop_Lbs/Ft',  u'Prop_Lbs/Cluster',     u'Prop_Lbs/Perf',\n",
       "           u'Avg_Prop_Conc',     u'Max_Prop_Conc',          u'Avg_Rate',\n",
       "                u'Max_Rate',           u'Rate/Ft',      u'Rate/Cluster',\n",
       "               u'Rate/Perf',      u'Avg_Pressure',      u'Max_Pressure',\n",
       "                 u'ISIP/Ft',         u'5\"_SIP/Ft',           u'PROPNUM',\n",
       "               u'XEC_FIELD',          u'OPERATOR',            u'COUNTY',\n",
       "                   u'STATE',        u'M_LATITUDE',       u'M_LONGITUDE',\n",
       "                   u'MAJOR',         u'SPUD_DATE',        u'FIRST_PROD',\n",
       "             u'Wet_Gas_EUR',       u'Dry_Gas_EUR',           u'Oil_EUR',\n",
       "                 u'NGL_EUR'],\n",
       "      dtype='object')"
      ]
     },
     "execution_count": 46,
     "metadata": {},
     "output_type": "execute_result"
    }
   ],
   "source": [
    "df_merge2.rename(columns={'Wet_Gas':'Wet_Gas_EUR', 'Dry_Gas':'Dry_Gas_EUR', 'Oil':'Oil_EUR', 'NGL':'NGL_EUR'}, inplace=True)\n",
    "df_merge2.columns"
   ]
  },
  {
   "cell_type": "code",
   "execution_count": 49,
   "metadata": {
    "collapsed": false
   },
   "outputs": [],
   "source": [
    "df_merge2.to_csv('../other/frac_merge.csv')"
   ]
  },
  {
   "cell_type": "code",
   "execution_count": 51,
   "metadata": {
    "collapsed": false
   },
   "outputs": [
    {
     "name": "stderr",
     "output_type": "stream",
     "text": [
      "//anaconda/lib/python2.7/site-packages/numpy/lib/function_base.py:3834: RuntimeWarning: Invalid value encountered in percentile\n",
      "  RuntimeWarning)\n"
     ]
    },
    {
     "data": {
      "text/html": [
       "<div>\n",
       "<table border=\"1\" class=\"dataframe\">\n",
       "  <thead>\n",
       "    <tr style=\"text-align: right;\">\n",
       "      <th></th>\n",
       "      <th>PropID</th>\n",
       "      <th>RSID</th>\n",
       "      <th>Completed_Feet</th>\n",
       "      <th>#_of_Stages</th>\n",
       "      <th>Stage_Length</th>\n",
       "      <th>Clusters/Stage</th>\n",
       "      <th>Cluster_Spacing</th>\n",
       "      <th>Perfs/Cluster</th>\n",
       "      <th>Fluid_Bbls</th>\n",
       "      <th>Fluid_Gal/Ft</th>\n",
       "      <th>...</th>\n",
       "      <th>ISIP/Ft</th>\n",
       "      <th>5\"_SIP/Ft</th>\n",
       "      <th>M_LATITUDE</th>\n",
       "      <th>M_LONGITUDE</th>\n",
       "      <th>SPUD_DATE</th>\n",
       "      <th>FIRST_PROD</th>\n",
       "      <th>Wet_Gas_EUR</th>\n",
       "      <th>Dry_Gas_EUR</th>\n",
       "      <th>Oil_EUR</th>\n",
       "      <th>NGL_EUR</th>\n",
       "    </tr>\n",
       "  </thead>\n",
       "  <tbody>\n",
       "    <tr>\n",
       "      <th>count</th>\n",
       "      <td>1.840000e+02</td>\n",
       "      <td>184.000000</td>\n",
       "      <td>184.000000</td>\n",
       "      <td>184.000000</td>\n",
       "      <td>184.000000</td>\n",
       "      <td>184.000000</td>\n",
       "      <td>184.000000</td>\n",
       "      <td>184.000000</td>\n",
       "      <td>184.000000</td>\n",
       "      <td>184.000000</td>\n",
       "      <td>...</td>\n",
       "      <td>184.000000</td>\n",
       "      <td>184.000000</td>\n",
       "      <td>178.000000</td>\n",
       "      <td>178.000000</td>\n",
       "      <td>1.570000e+02</td>\n",
       "      <td>1.780000e+02</td>\n",
       "      <td>1.780000e+02</td>\n",
       "      <td>1.780000e+02</td>\n",
       "      <td>1.780000e+02</td>\n",
       "      <td>178.000000</td>\n",
       "    </tr>\n",
       "    <tr>\n",
       "      <th>mean</th>\n",
       "      <td>2.668990e+06</td>\n",
       "      <td>13499.211957</td>\n",
       "      <td>6069.875000</td>\n",
       "      <td>25.576087</td>\n",
       "      <td>260.326087</td>\n",
       "      <td>4.184783</td>\n",
       "      <td>66.043478</td>\n",
       "      <td>8.746739</td>\n",
       "      <td>221783.217391</td>\n",
       "      <td>1460.875000</td>\n",
       "      <td>...</td>\n",
       "      <td>0.832717</td>\n",
       "      <td>0.783641</td>\n",
       "      <td>31.826544</td>\n",
       "      <td>-103.991925</td>\n",
       "      <td>1.644760e+07</td>\n",
       "      <td>2.013880e+07</td>\n",
       "      <td>2.237977e+06</td>\n",
       "      <td>1.822038e+06</td>\n",
       "      <td>2.351154e+05</td>\n",
       "      <td>158891.100679</td>\n",
       "    </tr>\n",
       "    <tr>\n",
       "      <th>std</th>\n",
       "      <td>3.677115e+04</td>\n",
       "      <td>745.952689</td>\n",
       "      <td>2271.840673</td>\n",
       "      <td>12.648449</td>\n",
       "      <td>72.244819</td>\n",
       "      <td>0.957334</td>\n",
       "      <td>30.814415</td>\n",
       "      <td>4.466388</td>\n",
       "      <td>132031.257460</td>\n",
       "      <td>426.480924</td>\n",
       "      <td>...</td>\n",
       "      <td>0.089156</td>\n",
       "      <td>0.090815</td>\n",
       "      <td>0.276347</td>\n",
       "      <td>0.277879</td>\n",
       "      <td>7.483132e+06</td>\n",
       "      <td>1.484409e+04</td>\n",
       "      <td>2.044165e+06</td>\n",
       "      <td>1.699208e+06</td>\n",
       "      <td>2.408007e+05</td>\n",
       "      <td>143527.253281</td>\n",
       "    </tr>\n",
       "    <tr>\n",
       "      <th>min</th>\n",
       "      <td>2.548189e+06</td>\n",
       "      <td>11666.000000</td>\n",
       "      <td>3194.000000</td>\n",
       "      <td>9.000000</td>\n",
       "      <td>156.000000</td>\n",
       "      <td>3.000000</td>\n",
       "      <td>25.000000</td>\n",
       "      <td>4.400000</td>\n",
       "      <td>50305.000000</td>\n",
       "      <td>601.000000</td>\n",
       "      <td>...</td>\n",
       "      <td>0.000000</td>\n",
       "      <td>0.000000</td>\n",
       "      <td>31.341650</td>\n",
       "      <td>-104.308110</td>\n",
       "      <td>2.012120e+05</td>\n",
       "      <td>2.010012e+07</td>\n",
       "      <td>0.000000e+00</td>\n",
       "      <td>0.000000e+00</td>\n",
       "      <td>0.000000e+00</td>\n",
       "      <td>0.000000</td>\n",
       "    </tr>\n",
       "    <tr>\n",
       "      <th>25%</th>\n",
       "      <td>2.655303e+06</td>\n",
       "      <td>13019.750000</td>\n",
       "      <td>4418.250000</td>\n",
       "      <td>16.000000</td>\n",
       "      <td>213.000000</td>\n",
       "      <td>4.000000</td>\n",
       "      <td>52.000000</td>\n",
       "      <td>6.000000</td>\n",
       "      <td>129604.750000</td>\n",
       "      <td>1179.000000</td>\n",
       "      <td>...</td>\n",
       "      <td>0.790000</td>\n",
       "      <td>0.750000</td>\n",
       "      <td>NaN</td>\n",
       "      <td>NaN</td>\n",
       "      <td>NaN</td>\n",
       "      <td>NaN</td>\n",
       "      <td>NaN</td>\n",
       "      <td>NaN</td>\n",
       "      <td>NaN</td>\n",
       "      <td>NaN</td>\n",
       "    </tr>\n",
       "    <tr>\n",
       "      <th>50%</th>\n",
       "      <td>2.670681e+06</td>\n",
       "      <td>13376.500000</td>\n",
       "      <td>4691.500000</td>\n",
       "      <td>21.000000</td>\n",
       "      <td>225.000000</td>\n",
       "      <td>4.000000</td>\n",
       "      <td>54.000000</td>\n",
       "      <td>6.300000</td>\n",
       "      <td>172855.000000</td>\n",
       "      <td>1455.500000</td>\n",
       "      <td>...</td>\n",
       "      <td>0.860000</td>\n",
       "      <td>0.810000</td>\n",
       "      <td>NaN</td>\n",
       "      <td>NaN</td>\n",
       "      <td>NaN</td>\n",
       "      <td>NaN</td>\n",
       "      <td>NaN</td>\n",
       "      <td>NaN</td>\n",
       "      <td>NaN</td>\n",
       "      <td>NaN</td>\n",
       "    </tr>\n",
       "    <tr>\n",
       "      <th>75%</th>\n",
       "      <td>2.686446e+06</td>\n",
       "      <td>14187.250000</td>\n",
       "      <td>7549.500000</td>\n",
       "      <td>35.000000</td>\n",
       "      <td>292.000000</td>\n",
       "      <td>4.000000</td>\n",
       "      <td>62.750000</td>\n",
       "      <td>8.900000</td>\n",
       "      <td>296491.750000</td>\n",
       "      <td>1646.250000</td>\n",
       "      <td>...</td>\n",
       "      <td>0.880000</td>\n",
       "      <td>0.840000</td>\n",
       "      <td>NaN</td>\n",
       "      <td>NaN</td>\n",
       "      <td>NaN</td>\n",
       "      <td>NaN</td>\n",
       "      <td>NaN</td>\n",
       "      <td>NaN</td>\n",
       "      <td>NaN</td>\n",
       "      <td>NaN</td>\n",
       "    </tr>\n",
       "    <tr>\n",
       "      <th>max</th>\n",
       "      <td>2.729392e+06</td>\n",
       "      <td>14473.000000</td>\n",
       "      <td>10566.000000</td>\n",
       "      <td>58.000000</td>\n",
       "      <td>419.000000</td>\n",
       "      <td>8.000000</td>\n",
       "      <td>137.000000</td>\n",
       "      <td>18.000000</td>\n",
       "      <td>655118.000000</td>\n",
       "      <td>2687.000000</td>\n",
       "      <td>...</td>\n",
       "      <td>0.960000</td>\n",
       "      <td>0.920000</td>\n",
       "      <td>34.494540</td>\n",
       "      <td>-103.209140</td>\n",
       "      <td>2.016052e+07</td>\n",
       "      <td>2.016092e+07</td>\n",
       "      <td>8.445568e+06</td>\n",
       "      <td>7.153398e+06</td>\n",
       "      <td>1.190433e+06</td>\n",
       "      <td>752292.062500</td>\n",
       "    </tr>\n",
       "  </tbody>\n",
       "</table>\n",
       "<p>8 rows × 35 columns</p>\n",
       "</div>"
      ],
      "text/plain": [
       "             PropID          RSID  Completed_Feet  #_of_Stages  Stage_Length  \\\n",
       "count  1.840000e+02    184.000000      184.000000   184.000000    184.000000   \n",
       "mean   2.668990e+06  13499.211957     6069.875000    25.576087    260.326087   \n",
       "std    3.677115e+04    745.952689     2271.840673    12.648449     72.244819   \n",
       "min    2.548189e+06  11666.000000     3194.000000     9.000000    156.000000   \n",
       "25%    2.655303e+06  13019.750000     4418.250000    16.000000    213.000000   \n",
       "50%    2.670681e+06  13376.500000     4691.500000    21.000000    225.000000   \n",
       "75%    2.686446e+06  14187.250000     7549.500000    35.000000    292.000000   \n",
       "max    2.729392e+06  14473.000000    10566.000000    58.000000    419.000000   \n",
       "\n",
       "       Clusters/Stage  Cluster_Spacing  Perfs/Cluster     Fluid_Bbls  \\\n",
       "count      184.000000       184.000000     184.000000     184.000000   \n",
       "mean         4.184783        66.043478       8.746739  221783.217391   \n",
       "std          0.957334        30.814415       4.466388  132031.257460   \n",
       "min          3.000000        25.000000       4.400000   50305.000000   \n",
       "25%          4.000000        52.000000       6.000000  129604.750000   \n",
       "50%          4.000000        54.000000       6.300000  172855.000000   \n",
       "75%          4.000000        62.750000       8.900000  296491.750000   \n",
       "max          8.000000       137.000000      18.000000  655118.000000   \n",
       "\n",
       "       Fluid_Gal/Ft      ...           ISIP/Ft   5\"_SIP/Ft  M_LATITUDE  \\\n",
       "count    184.000000      ...        184.000000  184.000000  178.000000   \n",
       "mean    1460.875000      ...          0.832717    0.783641   31.826544   \n",
       "std      426.480924      ...          0.089156    0.090815    0.276347   \n",
       "min      601.000000      ...          0.000000    0.000000   31.341650   \n",
       "25%     1179.000000      ...          0.790000    0.750000         NaN   \n",
       "50%     1455.500000      ...          0.860000    0.810000         NaN   \n",
       "75%     1646.250000      ...          0.880000    0.840000         NaN   \n",
       "max     2687.000000      ...          0.960000    0.920000   34.494540   \n",
       "\n",
       "       M_LONGITUDE     SPUD_DATE    FIRST_PROD   Wet_Gas_EUR   Dry_Gas_EUR  \\\n",
       "count   178.000000  1.570000e+02  1.780000e+02  1.780000e+02  1.780000e+02   \n",
       "mean   -103.991925  1.644760e+07  2.013880e+07  2.237977e+06  1.822038e+06   \n",
       "std       0.277879  7.483132e+06  1.484409e+04  2.044165e+06  1.699208e+06   \n",
       "min    -104.308110  2.012120e+05  2.010012e+07  0.000000e+00  0.000000e+00   \n",
       "25%            NaN           NaN           NaN           NaN           NaN   \n",
       "50%            NaN           NaN           NaN           NaN           NaN   \n",
       "75%            NaN           NaN           NaN           NaN           NaN   \n",
       "max    -103.209140  2.016052e+07  2.016092e+07  8.445568e+06  7.153398e+06   \n",
       "\n",
       "            Oil_EUR        NGL_EUR  \n",
       "count  1.780000e+02     178.000000  \n",
       "mean   2.351154e+05  158891.100679  \n",
       "std    2.408007e+05  143527.253281  \n",
       "min    0.000000e+00       0.000000  \n",
       "25%             NaN            NaN  \n",
       "50%             NaN            NaN  \n",
       "75%             NaN            NaN  \n",
       "max    1.190433e+06  752292.062500  \n",
       "\n",
       "[8 rows x 35 columns]"
      ]
     },
     "execution_count": 51,
     "metadata": {},
     "output_type": "execute_result"
    }
   ],
   "source": [
    "df_merge2.describe()"
   ]
  },
  {
   "cell_type": "code",
   "execution_count": null,
   "metadata": {
    "collapsed": true
   },
   "outputs": [],
   "source": []
  }
 ],
 "metadata": {
  "anaconda-cloud": {},
  "kernelspec": {
   "display_name": "Python [default]",
   "language": "python",
   "name": "python2"
  },
  "language_info": {
   "codemirror_mode": {
    "name": "ipython",
    "version": 2
   },
   "file_extension": ".py",
   "mimetype": "text/x-python",
   "name": "python",
   "nbconvert_exporter": "python",
   "pygments_lexer": "ipython2",
   "version": "2.7.12"
  }
 },
 "nbformat": 4,
 "nbformat_minor": 1
}
